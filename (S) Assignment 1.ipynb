{
 "cells": [
  {
   "cell_type": "markdown",
   "metadata": {},
   "source": [
    "\n",
    "\n",
    "\n",
    "\n",
    "\n",
    "\n"
   ]
  },
  {
   "cell_type": "markdown",
   "metadata": {},
   "source": [
    "### Business Analytics - Assignment 1 {-}\n",
    "\n",
    "\n",
    "---"
   ]
  },
  {
   "cell_type": "markdown",
   "metadata": {},
   "source": [
    "**Assignment Points**: 100  \n",
    "**Due Date**: Friday Week 4 (18 August) @ 11.59pm  \n",
    "**Submission**: Submit the assignment using the submission link on iLearn\n",
    "\n",
    "\n",
    "- Put **all your work** into this file;\n",
    "- Solutions must be provided in the cells below each question. Do not insert new cells; \n",
    "- Failure to follow these instructions will result in a loss of 20 points.\n"
   ]
  },
  {
   "cell_type": "markdown",
   "metadata": {},
   "source": [
    "### About the Assignment\n",
    "\n",
    "Credit score cards are used as a risk control method in the financial industry. Personal information submitted by credit card applicants are used to predict the probability of future defaults. The bank employs such data to decide whether to issue a credit card to the applicant or not.\n",
    "\n",
    "\n",
    "\n",
    "\n",
    "| Feature Name         | Explanation     | Additional Remarks |\n",
    "|--------------|-----------|-----------|\n",
    "| ID | Randomly allocated client number      |         |\n",
    "| Income   | Annual income  |  |\n",
    "| Gender   | Applicant's Gender   | Male = 0, Female = 1  |\n",
    "| Car | Car Ownership | Yes = 1, No = 0 | \n",
    "| Children | Number of Children | |\n",
    "| Real Estate | Real Estate Ownership | Yes = 1, No = 0 \n",
    "| Days Since Birth | No. of Days | Count backwards from current day (0), -1 means yesterday\n",
    "| Days Employed | No. of Days | Count backwards from current day(0). If positive, it means the person is currently unemployed.\n",
    "| Payment Default | Whether a client has overdue credit card payments | Yes = 1, No = 0\n",
    "\n"
   ]
  },
  {
   "cell_type": "markdown",
   "metadata": {},
   "source": [
    "---"
   ]
  },
  {
   "cell_type": "markdown",
   "metadata": {},
   "source": [
    "\n",
    "### Problem 1 - (50 points) {-}\n"
   ]
  },
  {
   "cell_type": "markdown",
   "metadata": {},
   "source": [
    "**Question 1** \n",
    "\n",
    "- Import the `assignment_data.xlsx` file from `data` folder into a pandas DataFrame named `df`; \n",
    "- Delete duplicate rows from `df` according to `ID`;\n",
    "- Delete the `ID` column.\n",
    "- How many rows are left in `df`? (answer in the Markdown box below in a full sentence)\n",
    "\n",
    "(10 points)"
   ]
  },
  {
   "cell_type": "code",
   "execution_count": 1,
   "metadata": {
    "tags": []
   },
   "outputs": [
    {
     "data": {
      "text/html": [
       "<div>\n",
       "<style scoped>\n",
       "    .dataframe tbody tr th:only-of-type {\n",
       "        vertical-align: middle;\n",
       "    }\n",
       "\n",
       "    .dataframe tbody tr th {\n",
       "        vertical-align: top;\n",
       "    }\n",
       "\n",
       "    .dataframe thead th {\n",
       "        text-align: right;\n",
       "    }\n",
       "</style>\n",
       "<table border=\"1\" class=\"dataframe\">\n",
       "  <thead>\n",
       "    <tr style=\"text-align: right;\">\n",
       "      <th></th>\n",
       "      <th>Gender</th>\n",
       "      <th>Car</th>\n",
       "      <th>Real Estate</th>\n",
       "      <th>Children</th>\n",
       "      <th>Income</th>\n",
       "      <th>Days Since Birth</th>\n",
       "      <th>Days Employed</th>\n",
       "      <th>Payment Default</th>\n",
       "    </tr>\n",
       "  </thead>\n",
       "  <tbody>\n",
       "    <tr>\n",
       "      <th>0</th>\n",
       "      <td>1</td>\n",
       "      <td>1</td>\n",
       "      <td>1</td>\n",
       "      <td>1</td>\n",
       "      <td>135000.0</td>\n",
       "      <td>-10434</td>\n",
       "      <td>-803</td>\n",
       "      <td>0</td>\n",
       "    </tr>\n",
       "    <tr>\n",
       "      <th>1</th>\n",
       "      <td>1</td>\n",
       "      <td>0</td>\n",
       "      <td>0</td>\n",
       "      <td>0</td>\n",
       "      <td>157500.0</td>\n",
       "      <td>-22494</td>\n",
       "      <td>365243</td>\n",
       "      <td>1</td>\n",
       "    </tr>\n",
       "    <tr>\n",
       "      <th>2</th>\n",
       "      <td>1</td>\n",
       "      <td>0</td>\n",
       "      <td>1</td>\n",
       "      <td>0</td>\n",
       "      <td>675000.0</td>\n",
       "      <td>-17964</td>\n",
       "      <td>-6594</td>\n",
       "      <td>0</td>\n",
       "    </tr>\n",
       "    <tr>\n",
       "      <th>3</th>\n",
       "      <td>1</td>\n",
       "      <td>0</td>\n",
       "      <td>0</td>\n",
       "      <td>0</td>\n",
       "      <td>193500.0</td>\n",
       "      <td>-17880</td>\n",
       "      <td>-9858</td>\n",
       "      <td>1</td>\n",
       "    </tr>\n",
       "    <tr>\n",
       "      <th>4</th>\n",
       "      <td>0</td>\n",
       "      <td>1</td>\n",
       "      <td>0</td>\n",
       "      <td>0</td>\n",
       "      <td>270000.0</td>\n",
       "      <td>-20776</td>\n",
       "      <td>-2745</td>\n",
       "      <td>1</td>\n",
       "    </tr>\n",
       "    <tr>\n",
       "      <th>...</th>\n",
       "      <td>...</td>\n",
       "      <td>...</td>\n",
       "      <td>...</td>\n",
       "      <td>...</td>\n",
       "      <td>...</td>\n",
       "      <td>...</td>\n",
       "      <td>...</td>\n",
       "      <td>...</td>\n",
       "    </tr>\n",
       "    <tr>\n",
       "      <th>9993</th>\n",
       "      <td>1</td>\n",
       "      <td>1</td>\n",
       "      <td>0</td>\n",
       "      <td>0</td>\n",
       "      <td>81000.0</td>\n",
       "      <td>-17493</td>\n",
       "      <td>-2347</td>\n",
       "      <td>0</td>\n",
       "    </tr>\n",
       "    <tr>\n",
       "      <th>9994</th>\n",
       "      <td>1</td>\n",
       "      <td>0</td>\n",
       "      <td>1</td>\n",
       "      <td>0</td>\n",
       "      <td>45000.0</td>\n",
       "      <td>-22072</td>\n",
       "      <td>365243</td>\n",
       "      <td>0</td>\n",
       "    </tr>\n",
       "    <tr>\n",
       "      <th>9995</th>\n",
       "      <td>1</td>\n",
       "      <td>0</td>\n",
       "      <td>0</td>\n",
       "      <td>0</td>\n",
       "      <td>306000.0</td>\n",
       "      <td>-12677</td>\n",
       "      <td>-5587</td>\n",
       "      <td>1</td>\n",
       "    </tr>\n",
       "    <tr>\n",
       "      <th>9996</th>\n",
       "      <td>1</td>\n",
       "      <td>0</td>\n",
       "      <td>0</td>\n",
       "      <td>0</td>\n",
       "      <td>121500.0</td>\n",
       "      <td>-23491</td>\n",
       "      <td>365243</td>\n",
       "      <td>0</td>\n",
       "    </tr>\n",
       "    <tr>\n",
       "      <th>9998</th>\n",
       "      <td>1</td>\n",
       "      <td>0</td>\n",
       "      <td>1</td>\n",
       "      <td>0</td>\n",
       "      <td>144000.0</td>\n",
       "      <td>-19002</td>\n",
       "      <td>365243</td>\n",
       "      <td>0</td>\n",
       "    </tr>\n",
       "  </tbody>\n",
       "</table>\n",
       "<p>6805 rows × 8 columns</p>\n",
       "</div>"
      ],
      "text/plain": [
       "      Gender  Car  Real Estate  Children    Income  Days Since Birth  \\\n",
       "0          1    1            1         1  135000.0            -10434   \n",
       "1          1    0            0         0  157500.0            -22494   \n",
       "2          1    0            1         0  675000.0            -17964   \n",
       "3          1    0            0         0  193500.0            -17880   \n",
       "4          0    1            0         0  270000.0            -20776   \n",
       "...      ...  ...          ...       ...       ...               ...   \n",
       "9993       1    1            0         0   81000.0            -17493   \n",
       "9994       1    0            1         0   45000.0            -22072   \n",
       "9995       1    0            0         0  306000.0            -12677   \n",
       "9996       1    0            0         0  121500.0            -23491   \n",
       "9998       1    0            1         0  144000.0            -19002   \n",
       "\n",
       "      Days Employed  Payment Default  \n",
       "0              -803                0  \n",
       "1            365243                1  \n",
       "2             -6594                0  \n",
       "3             -9858                1  \n",
       "4             -2745                1  \n",
       "...             ...              ...  \n",
       "9993          -2347                0  \n",
       "9994         365243                0  \n",
       "9995          -5587                1  \n",
       "9996         365243                0  \n",
       "9998         365243                0  \n",
       "\n",
       "[6805 rows x 8 columns]"
      ]
     },
     "execution_count": 1,
     "metadata": {},
     "output_type": "execute_result"
    }
   ],
   "source": [
    "import pandas as pd\n",
    "\n",
    "df = pd.read_excel(\"C:/Users/asus/Desktop/BUSA8001/Assignment 1/data/assignment_data.xlsx\")\n",
    "df = df.drop_duplicates(subset='ID')\n",
    "df = df.drop(columns='ID')\n",
    "df"
   ]
  },
  {
   "cell_type": "markdown",
   "metadata": {},
   "source": [
    "### <u>Answer</u>: **6805** rows remaining\n"
   ]
  },
  {
   "cell_type": "markdown",
   "metadata": {},
   "source": [
    "---\n",
    "\n",
    "**Question 2**\n",
    "\n",
    "- Reset the index in `df` using an appropriate function from `pandas` so that the new index corresponds to the number of rows (make sure to delete the old index). \n",
    "- How many positive values of `Days Employed` are there? (answer in Markdown)\n",
    "- Replace the positive values of `Days Employed` with 0 (zero) in `df`\n",
    "\n",
    "(10 points)"
   ]
  },
  {
   "cell_type": "code",
   "execution_count": 2,
   "metadata": {
    "tags": []
   },
   "outputs": [
    {
     "data": {
      "text/plain": [
       "1069"
      ]
     },
     "execution_count": 2,
     "metadata": {},
     "output_type": "execute_result"
    }
   ],
   "source": [
    "df.reset_index(drop=True, inplace=True)\n",
    "\n",
    "positive_values_count = df[df['Days Employed'] > 0]['Days Employed'].count()\n",
    "positive_values_count"
   ]
  },
  {
   "cell_type": "markdown",
   "metadata": {},
   "source": [
    "### <u>Answer</u>: **1069** rows **positive**.\n"
   ]
  },
  {
   "cell_type": "code",
   "execution_count": 3,
   "metadata": {
    "tags": []
   },
   "outputs": [
    {
     "data": {
      "text/plain": [
       "0"
      ]
     },
     "execution_count": 3,
     "metadata": {},
     "output_type": "execute_result"
    }
   ],
   "source": [
    "df['Days Employed'] = df['Days Employed'].apply(lambda \n",
    "                                                x:0 if x>0 \n",
    "                                                else x)\n",
    "new_positive_values_count = df[df['Days Employed'] > 0]['Days Employed'].count()\n",
    "new_positive_values_count"
   ]
  },
  {
   "cell_type": "markdown",
   "metadata": {},
   "source": [
    "---\n",
    "**Question 3**\n",
    "\n",
    "Create two new variables in `df` named \n",
    "\n",
    "1. `Age`;\n",
    "2. `Years in Employment`,\n",
    "\n",
    "which measure age and employment length in **years** (positive decimal numbers) from `Days Since Birth` and `Days Employed` by applying appropriate transformations on these variables. \n",
    "\n",
    "Delete the original variables `Days Since Birth` and `Days Employed`.\n",
    "\n",
    "(5 points)\n"
   ]
  },
  {
   "cell_type": "code",
   "execution_count": 4,
   "metadata": {},
   "outputs": [
    {
     "data": {
      "text/html": [
       "<div>\n",
       "<style scoped>\n",
       "    .dataframe tbody tr th:only-of-type {\n",
       "        vertical-align: middle;\n",
       "    }\n",
       "\n",
       "    .dataframe tbody tr th {\n",
       "        vertical-align: top;\n",
       "    }\n",
       "\n",
       "    .dataframe thead th {\n",
       "        text-align: right;\n",
       "    }\n",
       "</style>\n",
       "<table border=\"1\" class=\"dataframe\">\n",
       "  <thead>\n",
       "    <tr style=\"text-align: right;\">\n",
       "      <th></th>\n",
       "      <th>Gender</th>\n",
       "      <th>Car</th>\n",
       "      <th>Real Estate</th>\n",
       "      <th>Children</th>\n",
       "      <th>Income</th>\n",
       "      <th>Payment Default</th>\n",
       "      <th>Age</th>\n",
       "      <th>Years in Employment</th>\n",
       "    </tr>\n",
       "  </thead>\n",
       "  <tbody>\n",
       "    <tr>\n",
       "      <th>0</th>\n",
       "      <td>1</td>\n",
       "      <td>1</td>\n",
       "      <td>1</td>\n",
       "      <td>1</td>\n",
       "      <td>135000.0</td>\n",
       "      <td>0</td>\n",
       "      <td>28.586301</td>\n",
       "      <td>2.200000</td>\n",
       "    </tr>\n",
       "    <tr>\n",
       "      <th>1</th>\n",
       "      <td>1</td>\n",
       "      <td>0</td>\n",
       "      <td>0</td>\n",
       "      <td>0</td>\n",
       "      <td>157500.0</td>\n",
       "      <td>1</td>\n",
       "      <td>61.627397</td>\n",
       "      <td>0.000000</td>\n",
       "    </tr>\n",
       "    <tr>\n",
       "      <th>2</th>\n",
       "      <td>1</td>\n",
       "      <td>0</td>\n",
       "      <td>1</td>\n",
       "      <td>0</td>\n",
       "      <td>675000.0</td>\n",
       "      <td>0</td>\n",
       "      <td>49.216438</td>\n",
       "      <td>18.065753</td>\n",
       "    </tr>\n",
       "    <tr>\n",
       "      <th>3</th>\n",
       "      <td>1</td>\n",
       "      <td>0</td>\n",
       "      <td>0</td>\n",
       "      <td>0</td>\n",
       "      <td>193500.0</td>\n",
       "      <td>1</td>\n",
       "      <td>48.986301</td>\n",
       "      <td>27.008219</td>\n",
       "    </tr>\n",
       "    <tr>\n",
       "      <th>4</th>\n",
       "      <td>0</td>\n",
       "      <td>1</td>\n",
       "      <td>0</td>\n",
       "      <td>0</td>\n",
       "      <td>270000.0</td>\n",
       "      <td>1</td>\n",
       "      <td>56.920548</td>\n",
       "      <td>7.520548</td>\n",
       "    </tr>\n",
       "    <tr>\n",
       "      <th>...</th>\n",
       "      <td>...</td>\n",
       "      <td>...</td>\n",
       "      <td>...</td>\n",
       "      <td>...</td>\n",
       "      <td>...</td>\n",
       "      <td>...</td>\n",
       "      <td>...</td>\n",
       "      <td>...</td>\n",
       "    </tr>\n",
       "    <tr>\n",
       "      <th>6800</th>\n",
       "      <td>1</td>\n",
       "      <td>1</td>\n",
       "      <td>0</td>\n",
       "      <td>0</td>\n",
       "      <td>81000.0</td>\n",
       "      <td>0</td>\n",
       "      <td>47.926027</td>\n",
       "      <td>6.430137</td>\n",
       "    </tr>\n",
       "    <tr>\n",
       "      <th>6801</th>\n",
       "      <td>1</td>\n",
       "      <td>0</td>\n",
       "      <td>1</td>\n",
       "      <td>0</td>\n",
       "      <td>45000.0</td>\n",
       "      <td>0</td>\n",
       "      <td>60.471233</td>\n",
       "      <td>0.000000</td>\n",
       "    </tr>\n",
       "    <tr>\n",
       "      <th>6802</th>\n",
       "      <td>1</td>\n",
       "      <td>0</td>\n",
       "      <td>0</td>\n",
       "      <td>0</td>\n",
       "      <td>306000.0</td>\n",
       "      <td>1</td>\n",
       "      <td>34.731507</td>\n",
       "      <td>15.306849</td>\n",
       "    </tr>\n",
       "    <tr>\n",
       "      <th>6803</th>\n",
       "      <td>1</td>\n",
       "      <td>0</td>\n",
       "      <td>0</td>\n",
       "      <td>0</td>\n",
       "      <td>121500.0</td>\n",
       "      <td>0</td>\n",
       "      <td>64.358904</td>\n",
       "      <td>0.000000</td>\n",
       "    </tr>\n",
       "    <tr>\n",
       "      <th>6804</th>\n",
       "      <td>1</td>\n",
       "      <td>0</td>\n",
       "      <td>1</td>\n",
       "      <td>0</td>\n",
       "      <td>144000.0</td>\n",
       "      <td>0</td>\n",
       "      <td>52.060274</td>\n",
       "      <td>0.000000</td>\n",
       "    </tr>\n",
       "  </tbody>\n",
       "</table>\n",
       "<p>6805 rows × 8 columns</p>\n",
       "</div>"
      ],
      "text/plain": [
       "      Gender  Car  Real Estate  Children    Income  Payment Default  \\\n",
       "0          1    1            1         1  135000.0                0   \n",
       "1          1    0            0         0  157500.0                1   \n",
       "2          1    0            1         0  675000.0                0   \n",
       "3          1    0            0         0  193500.0                1   \n",
       "4          0    1            0         0  270000.0                1   \n",
       "...      ...  ...          ...       ...       ...              ...   \n",
       "6800       1    1            0         0   81000.0                0   \n",
       "6801       1    0            1         0   45000.0                0   \n",
       "6802       1    0            0         0  306000.0                1   \n",
       "6803       1    0            0         0  121500.0                0   \n",
       "6804       1    0            1         0  144000.0                0   \n",
       "\n",
       "            Age  Years in Employment  \n",
       "0     28.586301             2.200000  \n",
       "1     61.627397             0.000000  \n",
       "2     49.216438            18.065753  \n",
       "3     48.986301            27.008219  \n",
       "4     56.920548             7.520548  \n",
       "...         ...                  ...  \n",
       "6800  47.926027             6.430137  \n",
       "6801  60.471233             0.000000  \n",
       "6802  34.731507            15.306849  \n",
       "6803  64.358904             0.000000  \n",
       "6804  52.060274             0.000000  \n",
       "\n",
       "[6805 rows x 8 columns]"
      ]
     },
     "execution_count": 4,
     "metadata": {},
     "output_type": "execute_result"
    }
   ],
   "source": [
    "df['Age'] = abs(df['Days Since Birth']/365)\n",
    "df['Years in Employment'] = abs(df['Days Employed']/365)\n",
    "\n",
    "df.drop(['Days Since Birth','Days Employed'], axis=1, inplace=True)\n",
    "df"
   ]
  },
  {
   "cell_type": "markdown",
   "metadata": {},
   "source": [
    "---\n",
    "**Question 4**\n",
    "\n",
    "- Create a **one**-dimensional NumPy array named `y` by exporting the first 5,000 observations of `Payment_Default`. (Hint: see `ravel()` function)\n",
    "- Create a NumPy array named `X` by exporting the first 5,000 observations of the following columns `Gender`, `Car`, `Real Estate`, `Children`, `Income`, `Age`, `Years in Employment`.\n",
    " \n",
    "(10 points)\n"
   ]
  },
  {
   "cell_type": "code",
   "execution_count": 5,
   "metadata": {},
   "outputs": [
    {
     "name": "stdout",
     "output_type": "stream",
     "text": [
      "[[1.00000000e+00 1.00000000e+00 1.00000000e+00 ... 1.35000000e+05\n",
      "  2.85863014e+01 2.20000000e+00]\n",
      " [1.00000000e+00 0.00000000e+00 0.00000000e+00 ... 1.57500000e+05\n",
      "  6.16273973e+01 0.00000000e+00]\n",
      " [1.00000000e+00 0.00000000e+00 1.00000000e+00 ... 6.75000000e+05\n",
      "  4.92164384e+01 1.80657534e+01]\n",
      " ...\n",
      " [0.00000000e+00 0.00000000e+00 0.00000000e+00 ... 9.90000000e+04\n",
      "  4.89753425e+01 1.43534247e+01]\n",
      " [1.00000000e+00 0.00000000e+00 1.00000000e+00 ... 1.57500000e+05\n",
      "  5.01726027e+01 1.35506849e+01]\n",
      " [1.00000000e+00 1.00000000e+00 1.00000000e+00 ... 2.25000000e+05\n",
      "  4.23095890e+01 7.94520548e-01]]\n"
     ]
    }
   ],
   "source": [
    "import numpy as np\n",
    "y = df['Payment Default'].values[:5000]\n",
    "\n",
    "x_columns = ['Gender', 'Car', 'Real Estate', 'Children', 'Income', 'Age', 'Years in Employment']\n",
    "x = df[x_columns].values[:5000]\n",
    "print(x)"
   ]
  },
  {
   "cell_type": "markdown",
   "metadata": {},
   "source": [
    "---\n",
    "\n",
    "**Question 5** \n",
    "\n",
    "- Use an appropriate `scikit-learn` library we learned in class to create the following NumPy arrays: `y_train`, `y_test`, `X_train` and `X_test` by splitting the data into 70% training and 30% test datasets. \n",
    "- Set `random_state` to 0 and stratify subsamples so that train and test datasets have roughly equal proportions of the target's class labels. \n",
    "\n",
    "(5 points) "
   ]
  },
  {
   "cell_type": "code",
   "execution_count": 6,
   "metadata": {},
   "outputs": [
    {
     "name": "stdout",
     "output_type": "stream",
     "text": [
      "Class distribution:\n",
      "0    0.6128\n",
      "1    0.3872\n",
      "dtype: float64\n",
      " \n",
      "Train class distribution:\n",
      "0    0.612857\n",
      "1    0.387143\n",
      "dtype: float64\n",
      " \n",
      "Test class distribution:\n",
      "0    0.612667\n",
      "1    0.387333\n",
      "dtype: float64\n"
     ]
    }
   ],
   "source": [
    "from sklearn.model_selection import train_test_split\n",
    "X_train, X_test, Y_train, Y_test = train_test_split(x, y, test_size = 0.3, random_state = 0, stratify=y)\n",
    "\n",
    "print(\"Class distribution:\")\n",
    "print(pd.Series(y).value_counts(normalize=True))\n",
    "print(\" \")\n",
    "print(\"Train class distribution:\")\n",
    "print(pd.Series(Y_train).value_counts(normalize=True))\n",
    "print(\" \")\n",
    "print(\"Test class distribution:\")\n",
    "print(pd.Series(Y_test).value_counts(normalize=True))"
   ]
  },
  {
   "cell_type": "markdown",
   "metadata": {},
   "source": [
    "---\n",
    "\n",
    "**Question 6**\n",
    "\n",
    "- Create new variables by using an appropriate `scikit-learn` library we learned in class to standardize the features from the training and test datasets to mean zero and variance one. Name the new variables by appending '_scaled' to the original variable names.\n",
    "\n",
    "\n",
    "(10 points)   "
   ]
  },
  {
   "cell_type": "code",
   "execution_count": 7,
   "metadata": {},
   "outputs": [
    {
     "name": "stdout",
     "output_type": "stream",
     "text": [
      "Scaled Training set:\n",
      "      Gender_scaled  Car_scaled  Real Estate_scaled  Children_scaled  \\\n",
      "0         -1.403074    1.264265            0.733799         0.627702   \n",
      "1          0.712721    1.264265            0.733799         1.779146   \n",
      "2          0.712721    1.264265            0.733799        -0.523743   \n",
      "3          0.712721   -0.790973            0.733799        -0.523743   \n",
      "4         -1.403074    1.264265            0.733799        -0.523743   \n",
      "...             ...         ...                 ...              ...   \n",
      "3495      -1.403074   -0.790973            0.733799        -0.523743   \n",
      "3496       0.712721   -0.790973           -1.362770         0.627702   \n",
      "3497      -1.403074    1.264265            0.733799        -0.523743   \n",
      "3498       0.712721   -0.790973           -1.362770         0.627702   \n",
      "3499       0.712721   -0.790973            0.733799         1.779146   \n",
      "\n",
      "      Income_scaled  Age_scaled  Years in Employment_scaled  \n",
      "0         -0.486428    0.651963                    1.746518  \n",
      "1          0.300688   -1.088821                   -0.213435  \n",
      "2          0.497467   -0.346019                   -0.152094  \n",
      "3         -0.171582    0.661778                    0.153342  \n",
      "4         -0.486428   -0.996180                   -0.773965  \n",
      "...             ...         ...                         ...  \n",
      "3495       0.064553    2.095675                   -0.943605  \n",
      "3496      -0.407716   -0.354398                    0.539580  \n",
      "3497       0.300688    0.877221                   -0.943605  \n",
      "3498      -1.057086   -1.374164                   -0.592903  \n",
      "3499      -1.076764   -0.183718                    0.399130  \n",
      "\n",
      "[3500 rows x 7 columns]\n",
      " \n",
      "Scaled Testing set:\n",
      "[[-1.40307429e+00  1.26426530e+00 -1.36277029e+00 ...  1.03908872e-01\n",
      "  -8.30723019e-04  6.58454428e-01]\n",
      " [ 7.12720634e-01 -7.90973226e-01  7.33799386e-01 ... -2.89648839e-01\n",
      "   8.48256295e-01 -8.25999564e-01]\n",
      " [ 7.12720634e-01 -7.90973226e-01  7.33799386e-01 ... -9.28699834e-02\n",
      "  -2.43324422e-01 -4.13110679e-01]\n",
      " ...\n",
      " [ 7.12720634e-01 -7.90973226e-01  7.33799386e-01 ... -4.07716153e-01\n",
      "  -8.01217510e-03  3.07752701e-01]\n",
      " [-1.40307429e+00  1.26426530e+00  7.33799386e-01 ... -2.89648839e-01\n",
      "   1.06130604e+00  1.95550086e+00]\n",
      " [-1.40307429e+00  1.26426530e+00 -1.36277029e+00 ...  3.00687728e-01\n",
      "  -1.18983981e+00 -2.92543741e-01]]\n"
     ]
    }
   ],
   "source": [
    "from sklearn.preprocessing import StandardScaler\n",
    "\n",
    "scaler = StandardScaler()\n",
    "scaled_x_train = scaler.fit_transform(X_train)\n",
    "scaled_x_test = scaler.transform(X_test)\n",
    "\n",
    "scaled_col = [col + '_scaled' for col in x_columns]\n",
    "scaled_x_train = pd.DataFrame(scaled_x_train, columns=scaled_col)\n",
    "scaled_y_train = pd.DataFrame(scaled_x_test, columns=scaled_col)\n",
    "\n",
    "print(\"Scaled Training set:\")\n",
    "print(scaled_x_train)\n",
    "print(\" \")\n",
    "print(\"Scaled Testing set:\")\n",
    "print(scaled_x_test)"
   ]
  },
  {
   "cell_type": "markdown",
   "metadata": {},
   "source": [
    "---\n",
    "\n",
    "## Problem 2 - (20 Points) {-}\n",
    "\n",
    "**Question 7**\n",
    "\n",
    "Fit the following two classifiers to the transformed training dataset using `scikit-learn` libraries.\n",
    "\n",
    "- Perceptron - name your instance `pc` set `random_state=7`\n",
    "- Logistic Regression - name your instance `lr` set `random_state=7`\n",
    "\n",
    "When initializing instances of the above classifiers only set the parameters referenced above and nothing else.\n",
    "\n",
    "(20 points)"
   ]
  },
  {
   "cell_type": "code",
   "execution_count": 8,
   "metadata": {},
   "outputs": [
    {
     "data": {
      "text/html": [
       "<style>#sk-container-id-1 {color: black;background-color: white;}#sk-container-id-1 pre{padding: 0;}#sk-container-id-1 div.sk-toggleable {background-color: white;}#sk-container-id-1 label.sk-toggleable__label {cursor: pointer;display: block;width: 100%;margin-bottom: 0;padding: 0.3em;box-sizing: border-box;text-align: center;}#sk-container-id-1 label.sk-toggleable__label-arrow:before {content: \"▸\";float: left;margin-right: 0.25em;color: #696969;}#sk-container-id-1 label.sk-toggleable__label-arrow:hover:before {color: black;}#sk-container-id-1 div.sk-estimator:hover label.sk-toggleable__label-arrow:before {color: black;}#sk-container-id-1 div.sk-toggleable__content {max-height: 0;max-width: 0;overflow: hidden;text-align: left;background-color: #f0f8ff;}#sk-container-id-1 div.sk-toggleable__content pre {margin: 0.2em;color: black;border-radius: 0.25em;background-color: #f0f8ff;}#sk-container-id-1 input.sk-toggleable__control:checked~div.sk-toggleable__content {max-height: 200px;max-width: 100%;overflow: auto;}#sk-container-id-1 input.sk-toggleable__control:checked~label.sk-toggleable__label-arrow:before {content: \"▾\";}#sk-container-id-1 div.sk-estimator input.sk-toggleable__control:checked~label.sk-toggleable__label {background-color: #d4ebff;}#sk-container-id-1 div.sk-label input.sk-toggleable__control:checked~label.sk-toggleable__label {background-color: #d4ebff;}#sk-container-id-1 input.sk-hidden--visually {border: 0;clip: rect(1px 1px 1px 1px);clip: rect(1px, 1px, 1px, 1px);height: 1px;margin: -1px;overflow: hidden;padding: 0;position: absolute;width: 1px;}#sk-container-id-1 div.sk-estimator {font-family: monospace;background-color: #f0f8ff;border: 1px dotted black;border-radius: 0.25em;box-sizing: border-box;margin-bottom: 0.5em;}#sk-container-id-1 div.sk-estimator:hover {background-color: #d4ebff;}#sk-container-id-1 div.sk-parallel-item::after {content: \"\";width: 100%;border-bottom: 1px solid gray;flex-grow: 1;}#sk-container-id-1 div.sk-label:hover label.sk-toggleable__label {background-color: #d4ebff;}#sk-container-id-1 div.sk-serial::before {content: \"\";position: absolute;border-left: 1px solid gray;box-sizing: border-box;top: 0;bottom: 0;left: 50%;z-index: 0;}#sk-container-id-1 div.sk-serial {display: flex;flex-direction: column;align-items: center;background-color: white;padding-right: 0.2em;padding-left: 0.2em;position: relative;}#sk-container-id-1 div.sk-item {position: relative;z-index: 1;}#sk-container-id-1 div.sk-parallel {display: flex;align-items: stretch;justify-content: center;background-color: white;position: relative;}#sk-container-id-1 div.sk-item::before, #sk-container-id-1 div.sk-parallel-item::before {content: \"\";position: absolute;border-left: 1px solid gray;box-sizing: border-box;top: 0;bottom: 0;left: 50%;z-index: -1;}#sk-container-id-1 div.sk-parallel-item {display: flex;flex-direction: column;z-index: 1;position: relative;background-color: white;}#sk-container-id-1 div.sk-parallel-item:first-child::after {align-self: flex-end;width: 50%;}#sk-container-id-1 div.sk-parallel-item:last-child::after {align-self: flex-start;width: 50%;}#sk-container-id-1 div.sk-parallel-item:only-child::after {width: 0;}#sk-container-id-1 div.sk-dashed-wrapped {border: 1px dashed gray;margin: 0 0.4em 0.5em 0.4em;box-sizing: border-box;padding-bottom: 0.4em;background-color: white;}#sk-container-id-1 div.sk-label label {font-family: monospace;font-weight: bold;display: inline-block;line-height: 1.2em;}#sk-container-id-1 div.sk-label-container {text-align: center;}#sk-container-id-1 div.sk-container {/* jupyter's `normalize.less` sets `[hidden] { display: none; }` but bootstrap.min.css set `[hidden] { display: none !important; }` so we also need the `!important` here to be able to override the default hidden behavior on the sphinx rendered scikit-learn.org. See: https://github.com/scikit-learn/scikit-learn/issues/21755 */display: inline-block !important;position: relative;}#sk-container-id-1 div.sk-text-repr-fallback {display: none;}</style><div id=\"sk-container-id-1\" class=\"sk-top-container\"><div class=\"sk-text-repr-fallback\"><pre>LogisticRegression(random_state=7)</pre><b>In a Jupyter environment, please rerun this cell to show the HTML representation or trust the notebook. <br />On GitHub, the HTML representation is unable to render, please try loading this page with nbviewer.org.</b></div><div class=\"sk-container\" hidden><div class=\"sk-item\"><div class=\"sk-estimator sk-toggleable\"><input class=\"sk-toggleable__control sk-hidden--visually\" id=\"sk-estimator-id-1\" type=\"checkbox\" checked><label for=\"sk-estimator-id-1\" class=\"sk-toggleable__label sk-toggleable__label-arrow\">LogisticRegression</label><div class=\"sk-toggleable__content\"><pre>LogisticRegression(random_state=7)</pre></div></div></div></div></div>"
      ],
      "text/plain": [
       "LogisticRegression(random_state=7)"
      ]
     },
     "execution_count": 8,
     "metadata": {},
     "output_type": "execute_result"
    }
   ],
   "source": [
    "from sklearn.linear_model import Perceptron, LogisticRegression\n",
    "\n",
    "pc=Perceptron(random_state=7)\n",
    "lr=LogisticRegression(random_state=7)\n",
    "\n",
    "pc.fit(scaled_x_train, Y_train)\n",
    "lr.fit(scaled_x_train, Y_train)"
   ]
  },
  {
   "cell_type": "markdown",
   "metadata": {},
   "source": [
    "---\n",
    "## Problem 3 - (30 points) {-}\n"
   ]
  },
  {
   "cell_type": "markdown",
   "metadata": {},
   "source": [
    "**Question 8**\n",
    "\n",
    "- Using a method built into each of the two classifiers compute their prediction accuracies on the training data;\n",
    "- Store the accuracy values into variables named according to the following pattern: `classifier_name_accuracy_train`, e.g. you should have `lr_accuracy_train`; \n",
    "- Print the two accuracy **variables** along with their brief descriptions.\n",
    "\n",
    "(5 points)"
   ]
  },
  {
   "cell_type": "code",
   "execution_count": 9,
   "metadata": {},
   "outputs": [
    {
     "name": "stdout",
     "output_type": "stream",
     "text": [
      "Training data perceptron accuracy: 0.5202857142857142\n",
      "Training data logistic regression accuracy 0.6088571428571429\n"
     ]
    }
   ],
   "source": [
    "from sklearn.metrics import accuracy_score\n",
    "\n",
    "pc_predict_train = pc.predict(scaled_x_train)\n",
    "lr_predict_train = lr.predict(scaled_x_train)\n",
    "\n",
    "pc_acc_train = accuracy_score(Y_train, pc_predict_train)\n",
    "lr_acc_train = accuracy_score(Y_train, lr_predict_train)\n",
    "\n",
    "print(\"Training data perceptron accuracy:\", pc_acc_train)\n",
    "print(\"Training data logistic regression accuracy\", lr_acc_train)"
   ]
  },
  {
   "cell_type": "markdown",
   "metadata": {},
   "source": [
    "---\n",
    "\n",
    "**Question 9** \n",
    "\n",
    "- Using a method built into each of the above classifiers compute their prediction accuracy for the test dataset\n",
    "- Store the accuracy values into variables named according to the following pattern: `classifier_name_accuracy_test`, e.g. you should have `lr_accuracy_test`. \n",
    "- Print the two accuracy **variables** along with brief descriptions.\n",
    "\n",
    "(5 points)"
   ]
  },
  {
   "cell_type": "code",
   "execution_count": 10,
   "metadata": {},
   "outputs": [
    {
     "name": "stdout",
     "output_type": "stream",
     "text": [
      "Test data perceptron accuracy 0.5026666666666667\n",
      "Test data logistic regression accuracy 0.6173333333333333\n"
     ]
    },
    {
     "name": "stderr",
     "output_type": "stream",
     "text": [
      "C:\\Users\\asus\\anaconda3\\Lib\\site-packages\\sklearn\\base.py:439: UserWarning: X does not have valid feature names, but Perceptron was fitted with feature names\n",
      "  warnings.warn(\n",
      "C:\\Users\\asus\\anaconda3\\Lib\\site-packages\\sklearn\\base.py:439: UserWarning: X does not have valid feature names, but LogisticRegression was fitted with feature names\n",
      "  warnings.warn(\n"
     ]
    }
   ],
   "source": [
    "pc_predict_test = pc.predict(scaled_x_test)\n",
    "lr_predict_test = lr.predict(scaled_x_test)\n",
    "\n",
    "pc_acc_test = accuracy_score(Y_test, pc_predict_test)\n",
    "lr_acc_test = accuracy_score(Y_test, lr_predict_test)\n",
    "\n",
    "print(\"Test data perceptron accuracy\", pc_acc_test)\n",
    "print(\"Test data logistic regression accuracy\", lr_acc_test)"
   ]
  },
  {
   "cell_type": "markdown",
   "metadata": {},
   "source": [
    "---\n",
    "\n",
    "**Question 10** \n",
    "\n",
    "Using nicely formated text in Markdown comment on the accuracies computed in Questions 8 & 9 making sure you address:\n",
    "1. Training vs test set datasets for each classifier; (5 marks)\n",
    "2. Perceptrion vs Logistic Regression. (5 marks) \n",
    "3. Are the results as expected, and why or why not? (Hint: You are not expected to comment on why a particular model is better. 10 marks) \n",
    "\n",
    "(20 marks)\n"
   ]
  },
  {
   "cell_type": "markdown",
   "metadata": {},
   "source": [
    "<h3 style=\"text-align: center;\">Summary</h3>\n",
    "\n",
    "| *Data*              | Perceptron accuracy| Logistic Regression accuracy |\n",
    "| :---------------- | :--------: | :------------------: |\n",
    "| **Training data**     |   52.03 %     |        60.89 %        |\n",
    "| **Test data**         |   50.27 %     |        61.73 %        |\n"
   ]
  },
  {
   "cell_type": "markdown",
   "metadata": {},
   "source": [
    "#### 1. Training vs test set datasets for each classifier\n",
    "*On the test dataset, the accuracy scores for **both classifiers are lower** than on the **training dataset**. This states that models **perform better with data already used while training**.*"
   ]
  },
  {
   "cell_type": "markdown",
   "metadata": {},
   "source": [
    "#### 2. Perceptrion vs Logistic Regression.\n",
    "***Logistic Regression outweighs the Perceptron** in terms of **test accuracy**. In comparision to Perceptron, the **Logistic Regression classifier performs better on both the training and test datasets**. This suggests that Logistic Regression is better effective at capturing the underlying patterns in data and generalising.*"
   ]
  },
  {
   "cell_type": "markdown",
   "metadata": {
    "tags": []
   },
   "source": [
    "#### 3. Are the results as expected, and why or why not?\n",
    "\n",
    "*The outcomes are as expected and show frequent tendencies in machine learning. The models learned certain underlying patterns from the training data, which resulted in reasonable accuracy, on both training and test data.* \n",
    "\n",
    "*On the other hand, the small variation in test accuracies, shows that further optimisation may be required for even better generalisation.*\n"
   ]
  },
  {
   "cell_type": "markdown",
   "metadata": {},
   "source": [
    "<span style=\"font-family: Roboto; font-size: 25px\"> ***- Jatin Jassi*** \n",
    "</span> <span style=\"font-family: Roboto; font-size: 25px\"> *(46824014)* </span>"
   ]
  },
  {
   "cell_type": "markdown",
   "metadata": {},
   "source": [
    "---\n",
    "---\n",
    "\n",
    "### Marking Criteria\n",
    "\n",
    "- To receive full marks your solutions must satisfy the following criteria:\n",
    "    - Provide numerically correct answers;\n",
    "    - Use the specific Python methods and libraries asked for in each question;\n",
    "    - Written answers (where required) must be correct and formulated in easy to understand full sentences. \n",
    "\n",
    "---\n",
    "---"
   ]
  }
 ],
 "metadata": {
  "kernelspec": {
   "display_name": "Python 3 (ipykernel)",
   "language": "python",
   "name": "python3"
  },
  "language_info": {
   "codemirror_mode": {
    "name": "ipython",
    "version": 3
   },
   "file_extension": ".py",
   "mimetype": "text/x-python",
   "name": "python",
   "nbconvert_exporter": "python",
   "pygments_lexer": "ipython3",
   "version": "3.11.3"
  }
 },
 "nbformat": 4,
 "nbformat_minor": 4
}
